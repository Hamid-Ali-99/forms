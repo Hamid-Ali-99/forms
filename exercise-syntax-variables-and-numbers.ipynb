{
 "cells": [
  {
   "cell_type": "markdown",
   "id": "cd913830",
   "metadata": {
    "papermill": {
     "duration": 0.029674,
     "end_time": "2022-02-17T09:44:25.225264",
     "exception": false,
     "start_time": "2022-02-17T09:44:25.195590",
     "status": "completed"
    },
    "tags": []
   },
   "source": [
    "**This notebook is an exercise in the [Python](https://www.kaggle.com/learn/python) course.  You can reference the tutorial at [this link](https://www.kaggle.com/colinmorris/hello-python).**\n",
    "\n",
    "---\n"
   ]
  },
  {
   "cell_type": "markdown",
   "id": "d34894fa",
   "metadata": {
    "papermill": {
     "duration": 0.02777,
     "end_time": "2022-02-17T09:44:25.286524",
     "exception": false,
     "start_time": "2022-02-17T09:44:25.258754",
     "status": "completed"
    },
    "tags": []
   },
   "source": [
    "Welcome to your first set of Python coding problems.  If this is your first time using Kaggle Notebooks, welcome! \n",
    "\n",
    "Notebooks are composed of blocks (called \"cells\") of text and code. Each of these is editable, though you'll mainly be editing the code cells to answer some questions.\n",
    "\n",
    "To get started, try running the code cell below (by pressing the ► button, or clicking on the cell and pressing ctrl+enter on your keyboard)."
   ]
  },
  {
   "cell_type": "code",
   "execution_count": 1,
   "id": "f1968efc",
   "metadata": {
    "execution": {
     "iopub.execute_input": "2022-02-17T09:44:25.347013Z",
     "iopub.status.busy": "2022-02-17T09:44:25.345781Z",
     "iopub.status.idle": "2022-02-17T09:44:25.357330Z",
     "shell.execute_reply": "2022-02-17T09:44:25.358079Z",
     "shell.execute_reply.started": "2022-02-15T18:05:19.742849Z"
    },
    "papermill": {
     "duration": 0.043815,
     "end_time": "2022-02-17T09:44:25.358463",
     "exception": false,
     "start_time": "2022-02-17T09:44:25.314648",
     "status": "completed"
    },
    "tags": []
   },
   "outputs": [
    {
     "name": "stdout",
     "output_type": "stream",
     "text": [
      "You've successfully run some Python code\n",
      "Congratulations!\n"
     ]
    }
   ],
   "source": [
    "print(\"You've successfully run some Python code\")\n",
    "print(\"Congratulations!\")"
   ]
  },
  {
   "cell_type": "code",
   "execution_count": null,
   "id": "d122ca09",
   "metadata": {
    "papermill": {
     "duration": 0.029447,
     "end_time": "2022-02-17T09:44:25.417533",
     "exception": false,
     "start_time": "2022-02-17T09:44:25.388086",
     "status": "completed"
    },
    "tags": []
   },
   "outputs": [],
   "source": []
  },
  {
   "cell_type": "markdown",
   "id": "fb2a189f",
   "metadata": {
    "papermill": {
     "duration": 0.027939,
     "end_time": "2022-02-17T09:44:25.473740",
     "exception": false,
     "start_time": "2022-02-17T09:44:25.445801",
     "status": "completed"
    },
    "tags": []
   },
   "source": [
    "Try adding another line of code in the cell above and re-running it. \n",
    "\n",
    "Now let's get a little fancier:  Add a new code cell by clicking on an existing code cell, hitting the escape key, and then hitting the `a` or `b` key.  The `a` key will add a cell above the current cell, and `b` adds a cell below.\n",
    "\n",
    "Great! Now you know how to use Notebooks.\n",
    "\n",
    "Each hands-on exercise starts by setting up our feedback and code checking mechanism. Run the code cell below to do that. Then you'll be ready to move on to question 0."
   ]
  },
  {
   "cell_type": "code",
   "execution_count": 2,
   "id": "819ddc5a",
   "metadata": {
    "_kg_hide-input": true,
    "_kg_hide-output": true,
    "execution": {
     "iopub.execute_input": "2022-02-17T09:44:25.533621Z",
     "iopub.status.busy": "2022-02-17T09:44:25.532893Z",
     "iopub.status.idle": "2022-02-17T09:44:25.575625Z",
     "shell.execute_reply": "2022-02-17T09:44:25.576167Z",
     "shell.execute_reply.started": "2022-02-15T18:05:19.75114Z"
    },
    "papermill": {
     "duration": 0.074256,
     "end_time": "2022-02-17T09:44:25.576389",
     "exception": false,
     "start_time": "2022-02-17T09:44:25.502133",
     "status": "completed"
    },
    "tags": []
   },
   "outputs": [
    {
     "name": "stdout",
     "output_type": "stream",
     "text": [
      "Setup complete! You're ready to start question 0.\n"
     ]
    }
   ],
   "source": [
    "from learntools.core import binder; binder.bind(globals())\n",
    "from learntools.python.ex1 import *\n",
    "print(\"Setup complete! You're ready to start question 0.\")"
   ]
  },
  {
   "cell_type": "code",
   "execution_count": 3,
   "id": "38496094",
   "metadata": {
    "execution": {
     "iopub.execute_input": "2022-02-17T09:44:25.641694Z",
     "iopub.status.busy": "2022-02-17T09:44:25.640991Z",
     "iopub.status.idle": "2022-02-17T09:44:25.643652Z",
     "shell.execute_reply": "2022-02-17T09:44:25.644158Z",
     "shell.execute_reply.started": "2022-02-15T18:05:19.76364Z"
    },
    "papermill": {
     "duration": 0.039189,
     "end_time": "2022-02-17T09:44:25.644372",
     "exception": false,
     "start_time": "2022-02-17T09:44:25.605183",
     "status": "completed"
    },
    "tags": []
   },
   "outputs": [
    {
     "name": "stdout",
     "output_type": "stream",
     "text": [
      "Setup complete! You're ready to start question 0.\n"
     ]
    }
   ],
   "source": [
    "from learntools.core import binder; binder.bind(globals())\n",
    "from learntools.python.ex1 import *\n",
    "print(\"Setup complete! You're ready to start question 0.\")"
   ]
  },
  {
   "cell_type": "markdown",
   "id": "f9dd8a44",
   "metadata": {
    "papermill": {
     "duration": 0.029136,
     "end_time": "2022-02-17T09:44:25.702795",
     "exception": false,
     "start_time": "2022-02-17T09:44:25.673659",
     "status": "completed"
    },
    "tags": []
   },
   "source": [
    "# 0.\n",
    "\n",
    "*This is a silly question intended as an introduction to the format we use for hands-on exercises throughout all Kaggle courses.*\n",
    "\n",
    "**What is your favorite color? **\n",
    "\n",
    "To complete this question, create a variable called `color` in the cell below with an appropriate value. The function call `q0.check()` (which we've already provided in the cell below) will check your answer."
   ]
  },
  {
   "cell_type": "code",
   "execution_count": 4,
   "id": "d5c85bec",
   "metadata": {
    "execution": {
     "iopub.execute_input": "2022-02-17T09:44:25.766339Z",
     "iopub.status.busy": "2022-02-17T09:44:25.765684Z",
     "iopub.status.idle": "2022-02-17T09:44:25.774433Z",
     "shell.execute_reply": "2022-02-17T09:44:25.775109Z",
     "shell.execute_reply.started": "2022-02-15T18:05:19.782048Z"
    },
    "papermill": {
     "duration": 0.042563,
     "end_time": "2022-02-17T09:44:25.775300",
     "exception": false,
     "start_time": "2022-02-17T09:44:25.732737",
     "status": "completed"
    },
    "tags": []
   },
   "outputs": [
    {
     "data": {
      "application/javascript": [
       "parent.postMessage({\"jupyterEvent\": \"custom.exercise_interaction\", \"data\": {\"outcomeType\": 1, \"valueTowardsCompletion\": 0.25, \"interactionType\": 1, \"questionType\": 2, \"questionId\": \"0_ExerciseFormatTutorial\", \"learnToolsVersion\": \"0.3.4\", \"failureMessage\": \"\", \"exceptionClass\": \"\", \"trace\": \"\"}}, \"*\")"
      ],
      "text/plain": [
       "<IPython.core.display.Javascript object>"
      ]
     },
     "metadata": {},
     "output_type": "display_data"
    },
    {
     "data": {
      "text/markdown": [
       "<span style=\"color:#33cc33\">Correct:</span> What?! You got it right without needing a hint or anything? Drats. Well hey, you should still continue to the next step to get some practice asking for a hint and checking solutions. (Even though you obviously don't need any help here.)"
      ],
      "text/plain": [
       "Correct: What?! You got it right without needing a hint or anything? Drats. Well hey, you should still continue to the next step to get some practice asking for a hint and checking solutions. (Even though you obviously don't need any help here.)"
      ]
     },
     "metadata": {},
     "output_type": "display_data"
    }
   ],
   "source": [
    "# create a variable called color with an appropriate value on the line below\n",
    "# (Remember, strings in Python must be enclosed in 'single' or \"double\" quotes)\n",
    "color=\"blue\"\n",
    "# Check your answer\n",
    "q0.check()"
   ]
  },
  {
   "cell_type": "markdown",
   "id": "52ed5b2f",
   "metadata": {
    "papermill": {
     "duration": 0.030297,
     "end_time": "2022-02-17T09:44:25.838272",
     "exception": false,
     "start_time": "2022-02-17T09:44:25.807975",
     "status": "completed"
    },
    "tags": []
   },
   "source": [
    "Didn't get the right answer? How do you not even know your own favorite color?!\n",
    "\n",
    "Delete the `#` in the line below to make one of the lines run. You can choose between getting a hint or the full answer by choosing which line to remove the `#` from. \n",
    "\n",
    "Removing the `#` is called uncommenting, because it changes that line from a \"comment\" which Python doesn't run to code, which Python does run."
   ]
  },
  {
   "cell_type": "code",
   "execution_count": 5,
   "id": "f0d9fdcd",
   "metadata": {
    "execution": {
     "iopub.execute_input": "2022-02-17T09:44:25.903557Z",
     "iopub.status.busy": "2022-02-17T09:44:25.902892Z",
     "iopub.status.idle": "2022-02-17T09:44:25.905876Z",
     "shell.execute_reply": "2022-02-17T09:44:25.906468Z",
     "shell.execute_reply.started": "2022-02-15T18:05:19.797779Z"
    },
    "papermill": {
     "duration": 0.037861,
     "end_time": "2022-02-17T09:44:25.906643",
     "exception": false,
     "start_time": "2022-02-17T09:44:25.868782",
     "status": "completed"
    },
    "tags": []
   },
   "outputs": [],
   "source": [
    "#q0.hint()\n",
    "#q0.solution()"
   ]
  },
  {
   "cell_type": "markdown",
   "id": "22cae865",
   "metadata": {
    "papermill": {
     "duration": 0.030025,
     "end_time": "2022-02-17T09:44:25.968864",
     "exception": false,
     "start_time": "2022-02-17T09:44:25.938839",
     "status": "completed"
    },
    "tags": []
   },
   "source": [
    "The upcoming questions work the same way. The only thing that will change are the question numbers. For the next question, you'll call `q1.check()`, `q1.hint()`, `q1.solution()`, for question 2, you'll call `q2.check()`, and so on."
   ]
  },
  {
   "cell_type": "markdown",
   "id": "40fa1150",
   "metadata": {
    "papermill": {
     "duration": 0.030541,
     "end_time": "2022-02-17T09:44:26.030605",
     "exception": false,
     "start_time": "2022-02-17T09:44:26.000064",
     "status": "completed"
    },
    "tags": []
   },
   "source": [
    "<hr/>\n",
    "\n",
    "# 1.\n",
    "\n",
    "Complete the code below. In case it's helpful, here is the table of available arithmetic operations:\n",
    "\n",
    "\n",
    "\n",
    "| Operator     | Name           | Description                                            |\n",
    "|--------------|----------------|--------------------------------------------------------|\n",
    "| ``a + b``    | Addition       | Sum of ``a`` and ``b``                                 |\n",
    "| ``a - b``    | Subtraction    | Difference of ``a`` and ``b``                          |\n",
    "| ``a * b``    | Multiplication | Product of ``a`` and ``b``                             |\n",
    "| ``a / b``    | True division  | Quotient of ``a`` and ``b``                            |\n",
    "| ``a // b``   | Floor division | Quotient of ``a`` and ``b``, removing fractional parts |\n",
    "| ``a % b``    | Modulus        | Integer remainder after division of ``a`` by ``b``     |\n",
    "| ``a ** b``   | Exponentiation | ``a`` raised to the power of ``b``                     |\n",
    "| ``-a``       | Negation       | The negative of ``a``                                  |\n",
    "\n",
    "<span style=\"display:none\"></span>\n"
   ]
  },
  {
   "cell_type": "code",
   "execution_count": 6,
   "id": "078bea4c",
   "metadata": {
    "execution": {
     "iopub.execute_input": "2022-02-17T09:44:26.100650Z",
     "iopub.status.busy": "2022-02-17T09:44:26.099944Z",
     "iopub.status.idle": "2022-02-17T09:44:26.108918Z",
     "shell.execute_reply": "2022-02-17T09:44:26.109456Z",
     "shell.execute_reply.started": "2022-02-15T18:05:19.80538Z"
    },
    "papermill": {
     "duration": 0.045935,
     "end_time": "2022-02-17T09:44:26.109643",
     "exception": false,
     "start_time": "2022-02-17T09:44:26.063708",
     "status": "completed"
    },
    "tags": []
   },
   "outputs": [
    {
     "data": {
      "application/javascript": [
       "parent.postMessage({\"jupyterEvent\": \"custom.exercise_interaction\", \"data\": {\"outcomeType\": 1, \"valueTowardsCompletion\": 0.25, \"interactionType\": 1, \"questionType\": 1, \"questionId\": \"1_CircleArea\", \"learnToolsVersion\": \"0.3.4\", \"failureMessage\": \"\", \"exceptionClass\": \"\", \"trace\": \"\"}}, \"*\")"
      ],
      "text/plain": [
       "<IPython.core.display.Javascript object>"
      ]
     },
     "metadata": {},
     "output_type": "display_data"
    },
    {
     "data": {
      "text/markdown": [
       "<span style=\"color:#33cc33\">Correct</span>"
      ],
      "text/plain": [
       "Correct"
      ]
     },
     "metadata": {},
     "output_type": "display_data"
    }
   ],
   "source": [
    "pi = 3.14159 # approximate\n",
    "diameter = 3\n",
    "\n",
    "# Create a variable called 'radius' equal to half the diamete\n",
    "radius=diameter/2\n",
    "\n",
    "\n",
    "# Create a variable called 'area', using the formula for the area of a circle: pi times the radius squared\n",
    "area=pi*radius**2\n",
    "\n",
    "# Check your answer\n",
    "q1.check()"
   ]
  },
  {
   "cell_type": "code",
   "execution_count": 7,
   "id": "9e017a2f",
   "metadata": {
    "execution": {
     "iopub.execute_input": "2022-02-17T09:44:26.178742Z",
     "iopub.status.busy": "2022-02-17T09:44:26.177953Z",
     "iopub.status.idle": "2022-02-17T09:44:26.179795Z",
     "shell.execute_reply": "2022-02-17T09:44:26.180261Z",
     "shell.execute_reply.started": "2022-02-15T18:05:19.820944Z"
    },
    "papermill": {
     "duration": 0.038051,
     "end_time": "2022-02-17T09:44:26.180442",
     "exception": false,
     "start_time": "2022-02-17T09:44:26.142391",
     "status": "completed"
    },
    "tags": []
   },
   "outputs": [],
   "source": [
    "# Uncomment and run the lines below if you need help.\n",
    "#q1.hint()\n",
    "#q1.solution()"
   ]
  },
  {
   "cell_type": "markdown",
   "id": "d89b81c0",
   "metadata": {
    "papermill": {
     "duration": 0.033809,
     "end_time": "2022-02-17T09:44:26.248072",
     "exception": false,
     "start_time": "2022-02-17T09:44:26.214263",
     "status": "completed"
    },
    "tags": []
   },
   "source": [
    "<hr/>\n",
    "\n",
    "# 2.\n",
    "\n",
    "Add code to the following cell to swap variables `a` and `b` (so that `a` refers to the object previously referred to by `b` and vice versa)."
   ]
  },
  {
   "cell_type": "code",
   "execution_count": 8,
   "id": "d3fb6ef7",
   "metadata": {
    "execution": {
     "iopub.execute_input": "2022-02-17T09:44:26.315844Z",
     "iopub.status.busy": "2022-02-17T09:44:26.315125Z",
     "iopub.status.idle": "2022-02-17T09:44:26.322347Z",
     "shell.execute_reply": "2022-02-17T09:44:26.322814Z",
     "shell.execute_reply.started": "2022-02-15T18:05:19.828673Z"
    },
    "papermill": {
     "duration": 0.042842,
     "end_time": "2022-02-17T09:44:26.323027",
     "exception": false,
     "start_time": "2022-02-17T09:44:26.280185",
     "status": "completed"
    },
    "tags": []
   },
   "outputs": [
    {
     "data": {
      "application/javascript": [
       "parent.postMessage({\"jupyterEvent\": \"custom.exercise_interaction\", \"data\": {\"outcomeType\": 1, \"valueTowardsCompletion\": 0.25, \"interactionType\": 1, \"questionType\": 2, \"questionId\": \"2_VariableSwap\", \"learnToolsVersion\": \"0.3.4\", \"failureMessage\": \"\", \"exceptionClass\": \"\", \"trace\": \"\"}}, \"*\")"
      ],
      "text/plain": [
       "<IPython.core.display.Javascript object>"
      ]
     },
     "metadata": {},
     "output_type": "display_data"
    },
    {
     "data": {
      "text/markdown": [
       "<span style=\"color:#33cc33\">Correct:</span> \n",
       "\n",
       "The most straightforward solution is to use a third variable to temporarily store one of the old values. e.g.:\n",
       "\n",
       "    tmp = a\n",
       "    a = b\n",
       "    b = tmp\n",
       "\n",
       "If you've read lots of Python code, you might have seen the following trick to swap two variables in one line:\n",
       "\n",
       "    a, b = b, a\n",
       "\n",
       "We'll demystify this bit of Python magic later when we talk about *tuples*."
      ],
      "text/plain": [
       "Correct: \n",
       "\n",
       "The most straightforward solution is to use a third variable to temporarily store one of the old values. e.g.:\n",
       "\n",
       "    tmp = a\n",
       "    a = b\n",
       "    b = tmp\n",
       "\n",
       "If you've read lots of Python code, you might have seen the following trick to swap two variables in one line:\n",
       "\n",
       "    a, b = b, a\n",
       "\n",
       "We'll demystify this bit of Python magic later when we talk about *tuples*."
      ]
     },
     "metadata": {},
     "output_type": "display_data"
    }
   ],
   "source": [
    "########### Setup code - don't touch this part ######################\n",
    "# If you're curious, these are examples of lists. We'll talk about \n",
    "# them in depth a few lessons from now. For now, just know that they're\n",
    "# yet another type of Python object, like int or float.\n",
    "a = [1, 2, 3]\n",
    "b = [3, 2, 1]\n",
    "q2.store_original_ids()\n",
    "######################################################################\n",
    "# Your code goes here. Swap the values to which a and b refer.\n",
    "# If you get stuck, you can always uncomment one or both of the lines in\n",
    "# the next cell for a hint, or to peek at the solution.\n",
    "\n",
    "######################################################################\n",
    "temp=a;a=b;b=temp;\n",
    "\n",
    "# Check your answer\n",
    "q2.check()"
   ]
  },
  {
   "cell_type": "code",
   "execution_count": 9,
   "id": "af1059ad",
   "metadata": {
    "execution": {
     "iopub.execute_input": "2022-02-17T09:44:26.393839Z",
     "iopub.status.busy": "2022-02-17T09:44:26.392730Z",
     "iopub.status.idle": "2022-02-17T09:44:26.397291Z",
     "shell.execute_reply": "2022-02-17T09:44:26.397873Z",
     "shell.execute_reply.started": "2022-02-15T18:05:19.843013Z"
    },
    "papermill": {
     "duration": 0.042083,
     "end_time": "2022-02-17T09:44:26.398077",
     "exception": false,
     "start_time": "2022-02-17T09:44:26.355994",
     "status": "completed"
    },
    "tags": []
   },
   "outputs": [],
   "source": [
    "# q2.hint()"
   ]
  },
  {
   "cell_type": "code",
   "execution_count": 10,
   "id": "1e17019a",
   "metadata": {
    "execution": {
     "iopub.execute_input": "2022-02-17T09:44:26.468358Z",
     "iopub.status.busy": "2022-02-17T09:44:26.467721Z",
     "iopub.status.idle": "2022-02-17T09:44:26.473998Z",
     "shell.execute_reply": "2022-02-17T09:44:26.474632Z",
     "shell.execute_reply.started": "2022-02-15T18:05:19.854451Z"
    },
    "papermill": {
     "duration": 0.043217,
     "end_time": "2022-02-17T09:44:26.474803",
     "exception": false,
     "start_time": "2022-02-17T09:44:26.431586",
     "status": "completed"
    },
    "tags": []
   },
   "outputs": [
    {
     "data": {
      "application/javascript": [
       "parent.postMessage({\"jupyterEvent\": \"custom.exercise_interaction\", \"data\": {\"interactionType\": 3, \"questionType\": 2, \"questionId\": \"2_VariableSwap\", \"learnToolsVersion\": \"0.3.4\", \"valueTowardsCompletion\": 0.0, \"failureMessage\": \"\", \"exceptionClass\": \"\", \"trace\": \"\", \"outcomeType\": 4}}, \"*\")"
      ],
      "text/plain": [
       "<IPython.core.display.Javascript object>"
      ]
     },
     "metadata": {},
     "output_type": "display_data"
    },
    {
     "data": {
      "text/markdown": [
       "<span style=\"color:#33cc99\">Solution:</span> The most straightforward solution is to use a third variable to temporarily store one of the old values. e.g.:\n",
       "\n",
       "    tmp = a\n",
       "    a = b\n",
       "    b = tmp\n",
       "\n",
       "If you've read lots of Python code, you might have seen the following trick to swap two variables in one line:\n",
       "\n",
       "    a, b = b, a\n",
       "\n",
       "We'll demystify this bit of Python magic later when we talk about *tuples*."
      ],
      "text/plain": [
       "Solution: The most straightforward solution is to use a third variable to temporarily store one of the old values. e.g.:\n",
       "\n",
       "    tmp = a\n",
       "    a = b\n",
       "    b = tmp\n",
       "\n",
       "If you've read lots of Python code, you might have seen the following trick to swap two variables in one line:\n",
       "\n",
       "    a, b = b, a\n",
       "\n",
       "We'll demystify this bit of Python magic later when we talk about *tuples*."
      ]
     },
     "metadata": {},
     "output_type": "display_data"
    }
   ],
   "source": [
    "q2.solution()"
   ]
  },
  {
   "cell_type": "code",
   "execution_count": null,
   "id": "a2cf83ef",
   "metadata": {
    "papermill": {
     "duration": 0.034019,
     "end_time": "2022-02-17T09:44:26.543236",
     "exception": false,
     "start_time": "2022-02-17T09:44:26.509217",
     "status": "completed"
    },
    "tags": []
   },
   "outputs": [],
   "source": []
  },
  {
   "cell_type": "markdown",
   "id": "c522b3f8",
   "metadata": {
    "papermill": {
     "duration": 0.033729,
     "end_time": "2022-02-17T09:44:26.611970",
     "exception": false,
     "start_time": "2022-02-17T09:44:26.578241",
     "status": "completed"
    },
    "tags": []
   },
   "source": [
    "<hr/>\n",
    "\n",
    "# 3a.\n",
    "\n",
    "Add parentheses to the following expression so that it evaluates to 1."
   ]
  },
  {
   "cell_type": "code",
   "execution_count": 11,
   "id": "6d4f7718",
   "metadata": {
    "execution": {
     "iopub.execute_input": "2022-02-17T09:44:26.683751Z",
     "iopub.status.busy": "2022-02-17T09:44:26.683026Z",
     "iopub.status.idle": "2022-02-17T09:44:26.688030Z",
     "shell.execute_reply": "2022-02-17T09:44:26.688558Z",
     "shell.execute_reply.started": "2022-02-15T18:05:19.868737Z"
    },
    "papermill": {
     "duration": 0.042724,
     "end_time": "2022-02-17T09:44:26.688739",
     "exception": false,
     "start_time": "2022-02-17T09:44:26.646015",
     "status": "completed"
    },
    "tags": []
   },
   "outputs": [
    {
     "data": {
      "text/plain": [
       "1"
      ]
     },
     "execution_count": 11,
     "metadata": {},
     "output_type": "execute_result"
    }
   ],
   "source": [
    "(5 - 3)// 2"
   ]
  },
  {
   "cell_type": "code",
   "execution_count": 12,
   "id": "9a518e6a",
   "metadata": {
    "execution": {
     "iopub.execute_input": "2022-02-17T09:44:26.764974Z",
     "iopub.status.busy": "2022-02-17T09:44:26.764329Z",
     "iopub.status.idle": "2022-02-17T09:44:26.767287Z",
     "shell.execute_reply": "2022-02-17T09:44:26.767748Z",
     "shell.execute_reply.started": "2022-02-15T18:05:19.879453Z"
    },
    "papermill": {
     "duration": 0.042186,
     "end_time": "2022-02-17T09:44:26.767928",
     "exception": false,
     "start_time": "2022-02-17T09:44:26.725742",
     "status": "completed"
    },
    "tags": []
   },
   "outputs": [],
   "source": [
    "#q3.a.hint()"
   ]
  },
  {
   "cell_type": "code",
   "execution_count": 13,
   "id": "dfbe755d",
   "metadata": {
    "execution": {
     "iopub.execute_input": "2022-02-17T09:44:26.843051Z",
     "iopub.status.busy": "2022-02-17T09:44:26.842402Z",
     "iopub.status.idle": "2022-02-17T09:44:26.848578Z",
     "shell.execute_reply": "2022-02-17T09:44:26.849078Z",
     "shell.execute_reply.started": "2022-02-15T18:05:19.89064Z"
    },
    "papermill": {
     "duration": 0.045414,
     "end_time": "2022-02-17T09:44:26.849270",
     "exception": false,
     "start_time": "2022-02-17T09:44:26.803856",
     "status": "completed"
    },
    "tags": []
   },
   "outputs": [
    {
     "data": {
      "application/javascript": [
       "parent.postMessage({\"jupyterEvent\": \"custom.exercise_interaction\", \"data\": {\"interactionType\": 3, \"questionType\": 4, \"questionId\": \"3.1_ArithmeticParensEasy\", \"learnToolsVersion\": \"0.3.4\", \"valueTowardsCompletion\": 0.0, \"failureMessage\": \"\", \"exceptionClass\": \"\", \"trace\": \"\", \"outcomeType\": 4}}, \"*\")"
      ],
      "text/plain": [
       "<IPython.core.display.Javascript object>"
      ]
     },
     "metadata": {},
     "output_type": "display_data"
    },
    {
     "data": {
      "text/markdown": [
       "<span style=\"color:#33cc99\">Solution:</span> \n",
       "```python\n",
       "(5 - 3) // 2\n",
       "```"
      ],
      "text/plain": [
       "Solution: \n",
       "```python\n",
       "(5 - 3) // 2\n",
       "```"
      ]
     },
     "metadata": {},
     "output_type": "display_data"
    }
   ],
   "source": [
    "# Check your answer (Run this code cell to receive credit!)\n",
    "q3.a.solution()"
   ]
  },
  {
   "cell_type": "markdown",
   "id": "6ed480fa",
   "metadata": {
    "papermill": {
     "duration": 0.037363,
     "end_time": "2022-02-17T09:44:26.923771",
     "exception": false,
     "start_time": "2022-02-17T09:44:26.886408",
     "status": "completed"
    },
    "tags": []
   },
   "source": [
    "# 3b.  <span title=\"A bit spicy\" style=\"color: darkgreen \">🌶️</span>\n",
    "\n",
    "<small>Questions, like this one, marked a spicy pepper are a bit harder.</small>\n",
    "\n",
    "Add parentheses to the following expression so that it evaluates to 0."
   ]
  },
  {
   "cell_type": "code",
   "execution_count": 14,
   "id": "5ffbd257",
   "metadata": {
    "execution": {
     "iopub.execute_input": "2022-02-17T09:44:27.002386Z",
     "iopub.status.busy": "2022-02-17T09:44:27.001312Z",
     "iopub.status.idle": "2022-02-17T09:44:27.007794Z",
     "shell.execute_reply": "2022-02-17T09:44:27.008386Z",
     "shell.execute_reply.started": "2022-02-15T18:05:19.906528Z"
    },
    "papermill": {
     "duration": 0.0482,
     "end_time": "2022-02-17T09:44:27.008582",
     "exception": false,
     "start_time": "2022-02-17T09:44:26.960382",
     "status": "completed"
    },
    "tags": []
   },
   "outputs": [
    {
     "data": {
      "text/plain": [
       "0"
      ]
     },
     "execution_count": 14,
     "metadata": {},
     "output_type": "execute_result"
    }
   ],
   "source": [
    "8 - (3 * 2) - (1 + 1)"
   ]
  },
  {
   "cell_type": "code",
   "execution_count": 15,
   "id": "91199cb6",
   "metadata": {
    "execution": {
     "iopub.execute_input": "2022-02-17T09:44:27.087301Z",
     "iopub.status.busy": "2022-02-17T09:44:27.086284Z",
     "iopub.status.idle": "2022-02-17T09:44:27.089748Z",
     "shell.execute_reply": "2022-02-17T09:44:27.090355Z",
     "shell.execute_reply.started": "2022-02-15T18:05:19.91696Z"
    },
    "papermill": {
     "duration": 0.044387,
     "end_time": "2022-02-17T09:44:27.090536",
     "exception": false,
     "start_time": "2022-02-17T09:44:27.046149",
     "status": "completed"
    },
    "tags": []
   },
   "outputs": [],
   "source": [
    "#q3.b.hint()"
   ]
  },
  {
   "cell_type": "code",
   "execution_count": 16,
   "id": "97cd3acd",
   "metadata": {
    "execution": {
     "iopub.execute_input": "2022-02-17T09:44:27.168089Z",
     "iopub.status.busy": "2022-02-17T09:44:27.167145Z",
     "iopub.status.idle": "2022-02-17T09:44:27.174568Z",
     "shell.execute_reply": "2022-02-17T09:44:27.175012Z",
     "shell.execute_reply.started": "2022-02-15T18:05:19.928145Z"
    },
    "papermill": {
     "duration": 0.047673,
     "end_time": "2022-02-17T09:44:27.175223",
     "exception": false,
     "start_time": "2022-02-17T09:44:27.127550",
     "status": "completed"
    },
    "tags": []
   },
   "outputs": [
    {
     "data": {
      "application/javascript": [
       "parent.postMessage({\"jupyterEvent\": \"custom.exercise_interaction\", \"data\": {\"interactionType\": 3, \"questionType\": 4, \"questionId\": \"3.2_ArithmeticParensHard\", \"learnToolsVersion\": \"0.3.4\", \"valueTowardsCompletion\": 0.0, \"failureMessage\": \"\", \"exceptionClass\": \"\", \"trace\": \"\", \"outcomeType\": 4}}, \"*\")"
      ],
      "text/plain": [
       "<IPython.core.display.Javascript object>"
      ]
     },
     "metadata": {},
     "output_type": "display_data"
    },
    {
     "data": {
      "text/markdown": [
       "<span style=\"color:#33cc99\">Solution:</span> `(8 - 3) * (2 - (1 + 1))` is one solution. There may be others."
      ],
      "text/plain": [
       "Solution: `(8 - 3) * (2 - (1 + 1))` is one solution. There may be others."
      ]
     },
     "metadata": {},
     "output_type": "display_data"
    }
   ],
   "source": [
    "# Check your answer (Run this code cell to receive credit!)\n",
    "q3.b.solution()"
   ]
  },
  {
   "cell_type": "markdown",
   "id": "05619bca",
   "metadata": {
    "papermill": {
     "duration": 0.037429,
     "end_time": "2022-02-17T09:44:27.250351",
     "exception": false,
     "start_time": "2022-02-17T09:44:27.212922",
     "status": "completed"
    },
    "tags": []
   },
   "source": [
    "<hr/>\n",
    "\n",
    "# 4. \n",
    "Alice, Bob and Carol have agreed to pool their Halloween candy and split it evenly among themselves.\n",
    "For the sake of their friendship, any candies left over will be smashed. For example, if they collectively\n",
    "bring home 91 candies, they'll take 30 each and smash 1.\n",
    "\n",
    "Write an arithmetic expression below to calculate how many candies they must smash for a given haul."
   ]
  },
  {
   "cell_type": "code",
   "execution_count": 17,
   "id": "c468ca5a",
   "metadata": {
    "execution": {
     "iopub.execute_input": "2022-02-17T09:44:27.332561Z",
     "iopub.status.busy": "2022-02-17T09:44:27.331852Z",
     "iopub.status.idle": "2022-02-17T09:44:27.335972Z",
     "shell.execute_reply": "2022-02-17T09:44:27.336503Z",
     "shell.execute_reply.started": "2022-02-15T18:05:19.941936Z"
    },
    "papermill": {
     "duration": 0.048793,
     "end_time": "2022-02-17T09:44:27.336674",
     "exception": false,
     "start_time": "2022-02-17T09:44:27.287881",
     "status": "completed"
    },
    "tags": []
   },
   "outputs": [
    {
     "data": {
      "application/javascript": [
       "parent.postMessage({\"jupyterEvent\": \"custom.exercise_interaction\", \"data\": {\"outcomeType\": 1, \"valueTowardsCompletion\": 0.25, \"interactionType\": 1, \"questionType\": 1, \"questionId\": \"4_CandySplitting\", \"learnToolsVersion\": \"0.3.4\", \"failureMessage\": \"\", \"exceptionClass\": \"\", \"trace\": \"\"}}, \"*\")"
      ],
      "text/plain": [
       "<IPython.core.display.Javascript object>"
      ]
     },
     "metadata": {},
     "output_type": "display_data"
    },
    {
     "data": {
      "text/markdown": [
       "<span style=\"color:#33cc33\">Correct</span>"
      ],
      "text/plain": [
       "Correct"
      ]
     },
     "metadata": {},
     "output_type": "display_data"
    }
   ],
   "source": [
    "# Variables representing the number of candies collected by alice, bob, and carol\n",
    "alice_candies = 121\n",
    "bob_candies = 77\n",
    "carol_candies = 109\n",
    "\n",
    "# Your code goes here! Replace the right-hand side of this assignment with an expression\n",
    "# involving alice_candies, bob_candies, and carol_candies\n",
    "\n",
    "to_smash = (alice_candies+bob_candies+carol_candies)%3\n",
    "\n",
    "# Check your answer\n",
    "q4.check()"
   ]
  },
  {
   "cell_type": "code",
   "execution_count": 18,
   "id": "4ada56ff",
   "metadata": {
    "execution": {
     "iopub.execute_input": "2022-02-17T09:44:27.417280Z",
     "iopub.status.busy": "2022-02-17T09:44:27.416574Z",
     "iopub.status.idle": "2022-02-17T09:44:27.419405Z",
     "shell.execute_reply": "2022-02-17T09:44:27.419869Z",
     "shell.execute_reply.started": "2022-02-15T18:05:19.954819Z"
    },
    "papermill": {
     "duration": 0.044863,
     "end_time": "2022-02-17T09:44:27.420049",
     "exception": false,
     "start_time": "2022-02-17T09:44:27.375186",
     "status": "completed"
    },
    "tags": []
   },
   "outputs": [],
   "source": [
    "#q4.hint()\n",
    "#q4.solution()"
   ]
  },
  {
   "cell_type": "markdown",
   "id": "3d2470ce",
   "metadata": {
    "papermill": {
     "duration": 0.038671,
     "end_time": "2022-02-17T09:44:27.497379",
     "exception": false,
     "start_time": "2022-02-17T09:44:27.458708",
     "status": "completed"
    },
    "tags": []
   },
   "source": [
    "# Keep Going\n",
    "\n",
    "Next up, you'll **[learn to write new functions and understand functions others write](https://www.kaggle.com/colinmorris/functions-and-getting-help)**. This will make you at least 10 times more productive as a Python programmer. "
   ]
  },
  {
   "cell_type": "markdown",
   "id": "64b54d1e",
   "metadata": {
    "papermill": {
     "duration": 0.038183,
     "end_time": "2022-02-17T09:44:27.574228",
     "exception": false,
     "start_time": "2022-02-17T09:44:27.536045",
     "status": "completed"
    },
    "tags": []
   },
   "source": [
    "---\n",
    "\n",
    "\n",
    "\n",
    "\n",
    "*Have questions or comments? Visit the [course discussion forum](https://www.kaggle.com/learn/python/discussion) to chat with other learners.*"
   ]
  }
 ],
 "metadata": {
  "kernelspec": {
   "display_name": "Python 3",
   "language": "python",
   "name": "python3"
  },
  "language_info": {
   "codemirror_mode": {
    "name": "ipython",
    "version": 3
   },
   "file_extension": ".py",
   "mimetype": "text/x-python",
   "name": "python",
   "nbconvert_exporter": "python",
   "pygments_lexer": "ipython3",
   "version": "3.7.12"
  },
  "papermill": {
   "default_parameters": {},
   "duration": 13.965516,
   "end_time": "2022-02-17T09:44:28.223315",
   "environment_variables": {},
   "exception": null,
   "input_path": "__notebook__.ipynb",
   "output_path": "__notebook__.ipynb",
   "parameters": {},
   "start_time": "2022-02-17T09:44:14.257799",
   "version": "2.3.3"
  }
 },
 "nbformat": 4,
 "nbformat_minor": 5
}
