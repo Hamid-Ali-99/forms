{
 "cells": [
  {
   "cell_type": "markdown",
   "id": "599ca6f7",
   "metadata": {
    "papermill": {
     "duration": 0.019524,
     "end_time": "2022-02-24T09:50:37.305136",
     "exception": false,
     "start_time": "2022-02-24T09:50:37.285612",
     "status": "completed"
    },
    "tags": []
   },
   "source": [
    "**This notebook is an exercise in the [Python](https://www.kaggle.com/learn/python) course.  You can reference the tutorial at [this link](https://www.kaggle.com/colinmorris/functions-and-getting-help).**\n",
    "\n",
    "---\n"
   ]
  },
  {
   "cell_type": "markdown",
   "id": "772714f6",
   "metadata": {
    "papermill": {
     "duration": 0.017947,
     "end_time": "2022-02-24T09:50:37.343770",
     "exception": false,
     "start_time": "2022-02-24T09:50:37.325823",
     "status": "completed"
    },
    "tags": []
   },
   "source": [
    "Functions are powerful. Try writing some yourself.\n",
    "\n",
    "As before, don't forget to run the setup code below before jumping into question 1."
   ]
  },
  {
   "cell_type": "code",
   "execution_count": 1,
   "id": "504156b8",
   "metadata": {
    "_kg_hide-input": true,
    "_kg_hide-output": true,
    "execution": {
     "iopub.execute_input": "2022-02-24T09:50:37.385316Z",
     "iopub.status.busy": "2022-02-24T09:50:37.384035Z",
     "iopub.status.idle": "2022-02-24T09:50:37.429166Z",
     "shell.execute_reply": "2022-02-24T09:50:37.429930Z",
     "shell.execute_reply.started": "2022-02-24T09:48:38.775517Z"
    },
    "papermill": {
     "duration": 0.067817,
     "end_time": "2022-02-24T09:50:37.430379",
     "exception": false,
     "start_time": "2022-02-24T09:50:37.362562",
     "status": "completed"
    },
    "tags": []
   },
   "outputs": [
    {
     "name": "stdout",
     "output_type": "stream",
     "text": [
      "Setup complete.\n"
     ]
    }
   ],
   "source": [
    "# SETUP. You don't need to worry for now about what this code does or how it works.\n",
    "from learntools.core import binder; binder.bind(globals())\n",
    "from learntools.python.ex2 import *\n",
    "print('Setup complete.')"
   ]
  },
  {
   "cell_type": "markdown",
   "id": "6e65eadf",
   "metadata": {
    "papermill": {
     "duration": 0.018057,
     "end_time": "2022-02-24T09:50:37.468477",
     "exception": false,
     "start_time": "2022-02-24T09:50:37.450420",
     "status": "completed"
    },
    "tags": []
   },
   "source": [
    "# 1.\n",
    "\n",
    "Complete the body of the following function according to its docstring.\n",
    "\n",
    "HINT: Python has a built-in function `round`."
   ]
  },
  {
   "cell_type": "markdown",
   "id": "ab7a1b3e",
   "metadata": {
    "execution": {
     "iopub.execute_input": "2022-02-17T10:55:29.599626Z",
     "iopub.status.busy": "2022-02-17T10:55:29.599344Z",
     "iopub.status.idle": "2022-02-17T10:55:29.605567Z",
     "shell.execute_reply": "2022-02-17T10:55:29.604732Z",
     "shell.execute_reply.started": "2022-02-17T10:55:29.599596Z"
    },
    "papermill": {
     "duration": 0.018333,
     "end_time": "2022-02-24T09:50:37.505413",
     "exception": false,
     "start_time": "2022-02-24T09:50:37.487080",
     "status": "completed"
    },
    "tags": []
   },
   "source": [
    " def round_to_two_places(num):\n",
    "    \"\"\"Return the given number rounded to two decimal places. \n",
    "    \n",
    "    >>> round_to_two_places(3.14159)\n",
    "    3.14 \"\"\"\n",
    " \n",
    "    # Replace this body with your own code.\n",
    "    # (\"pass\" is a keyword that does literally nothing. We used it as a placeholder\n",
    "    # because after we begin a code block, Python requires at least one line of code)\n",
    "#     pass\n",
    "   return round(num,2)\n",
    "# Check your answer\n",
    "q1.check()"
   ]
  },
  {
   "cell_type": "code",
   "execution_count": 2,
   "id": "6921485e",
   "metadata": {
    "execution": {
     "iopub.execute_input": "2022-02-24T09:50:37.546001Z",
     "iopub.status.busy": "2022-02-24T09:50:37.545324Z",
     "iopub.status.idle": "2022-02-24T09:50:37.550426Z",
     "shell.execute_reply": "2022-02-24T09:50:37.551023Z",
     "shell.execute_reply.started": "2022-02-24T09:49:34.024165Z"
    },
    "papermill": {
     "duration": 0.027088,
     "end_time": "2022-02-24T09:50:37.551220",
     "exception": false,
     "start_time": "2022-02-24T09:50:37.524132",
     "status": "completed"
    },
    "tags": []
   },
   "outputs": [
    {
     "name": "stdout",
     "output_type": "stream",
     "text": [
      "3.14\n"
     ]
    }
   ],
   "source": [
    "def round_to_two_places(num): \n",
    "    return round(num,2)\n",
    "print(round_to_two_places(3.14159))"
   ]
  },
  {
   "cell_type": "code",
   "execution_count": 3,
   "id": "9b13aa73",
   "metadata": {
    "execution": {
     "iopub.execute_input": "2022-02-24T09:50:37.594625Z",
     "iopub.status.busy": "2022-02-24T09:50:37.593856Z",
     "iopub.status.idle": "2022-02-24T09:50:37.596498Z",
     "shell.execute_reply": "2022-02-24T09:50:37.597030Z",
     "shell.execute_reply.started": "2022-02-17T13:55:21.418644Z"
    },
    "papermill": {
     "duration": 0.025711,
     "end_time": "2022-02-24T09:50:37.597234",
     "exception": false,
     "start_time": "2022-02-24T09:50:37.571523",
     "status": "completed"
    },
    "tags": []
   },
   "outputs": [],
   "source": [
    "# Uncomment the following for a hint\n",
    "#q1.hint()\n",
    "# Or uncomment the following to peek at the solution\n",
    "#q1.solution()"
   ]
  },
  {
   "cell_type": "markdown",
   "id": "d8025b9e",
   "metadata": {
    "papermill": {
     "duration": 0.018559,
     "end_time": "2022-02-24T09:50:37.635111",
     "exception": false,
     "start_time": "2022-02-24T09:50:37.616552",
     "status": "completed"
    },
    "tags": []
   },
   "source": [
    "# 2.\n",
    "The help for `round` says that `ndigits` (the second argument) may be negative.\n",
    "What do you think will happen when it is? Try some examples in the following cell."
   ]
  },
  {
   "cell_type": "code",
   "execution_count": 4,
   "id": "e2c9a365",
   "metadata": {
    "execution": {
     "iopub.execute_input": "2022-02-24T09:50:37.676451Z",
     "iopub.status.busy": "2022-02-24T09:50:37.675750Z",
     "iopub.status.idle": "2022-02-24T09:50:37.680001Z",
     "shell.execute_reply": "2022-02-24T09:50:37.680780Z",
     "shell.execute_reply.started": "2022-02-24T09:49:39.038773Z"
    },
    "papermill": {
     "duration": 0.026972,
     "end_time": "2022-02-24T09:50:37.681032",
     "exception": false,
     "start_time": "2022-02-24T09:50:37.654060",
     "status": "completed"
    },
    "tags": []
   },
   "outputs": [
    {
     "name": "stdout",
     "output_type": "stream",
     "text": [
      "0.0\n"
     ]
    }
   ],
   "source": [
    "# Put your test code here\n",
    "num=23.333434\n",
    "\n",
    "print(round(num,-2))"
   ]
  },
  {
   "cell_type": "markdown",
   "id": "edae7c02",
   "metadata": {
    "papermill": {
     "duration": 0.019183,
     "end_time": "2022-02-24T09:50:37.720767",
     "exception": false,
     "start_time": "2022-02-24T09:50:37.701584",
     "status": "completed"
    },
    "tags": []
   },
   "source": [
    "Can you think of a case where this would be useful?  Once you're ready, run the code cell below to see the answer and to receive credit for completing the problem."
   ]
  },
  {
   "cell_type": "code",
   "execution_count": 5,
   "id": "42749738",
   "metadata": {
    "execution": {
     "iopub.execute_input": "2022-02-24T09:50:37.762656Z",
     "iopub.status.busy": "2022-02-24T09:50:37.761967Z",
     "iopub.status.idle": "2022-02-24T09:50:37.769952Z",
     "shell.execute_reply": "2022-02-24T09:50:37.770467Z",
     "shell.execute_reply.started": "2022-02-17T13:55:21.437212Z"
    },
    "papermill": {
     "duration": 0.030603,
     "end_time": "2022-02-24T09:50:37.770665",
     "exception": false,
     "start_time": "2022-02-24T09:50:37.740062",
     "status": "completed"
    },
    "tags": []
   },
   "outputs": [
    {
     "data": {
      "application/javascript": [
       "parent.postMessage({\"jupyterEvent\": \"custom.exercise_interaction\", \"data\": {\"interactionType\": 3, \"questionType\": 4, \"questionId\": \"2_RoundNdigitsProblem\", \"learnToolsVersion\": \"0.3.4\", \"valueTowardsCompletion\": 0.0, \"failureMessage\": \"\", \"exceptionClass\": \"\", \"trace\": \"\", \"outcomeType\": 4}}, \"*\")"
      ],
      "text/plain": [
       "<IPython.core.display.Javascript object>"
      ]
     },
     "metadata": {},
     "output_type": "display_data"
    },
    {
     "data": {
      "text/markdown": [
       "<span style=\"color:#33cc99\">Solution:</span> As you've seen, `ndigits=-1` rounds to the nearest 10, `ndigits=-2` rounds to the nearest 100 and so on. Where might this be useful? Suppose we're dealing with large numbers:\n",
       "\n",
       "> The area of Finland is 338,424 km²  \n",
       "> The area of Greenland is 2,166,086 km²\n",
       "\n",
       "We probably don't care whether it's really 338,424, or 338,425, or 338,177. All those digits of accuracy are just distracting. We can chop them off by calling `round()` with `ndigits=-3`:\n",
       "\n",
       "> The area of Finland is 338,000 km²  \n",
       "> The area of Greenland is 2,166,000 km²\n",
       "\n",
       "(We'll talk about how we would get the commas later when we talk about string formatting :))\n"
      ],
      "text/plain": [
       "Solution: As you've seen, `ndigits=-1` rounds to the nearest 10, `ndigits=-2` rounds to the nearest 100 and so on. Where might this be useful? Suppose we're dealing with large numbers:\n",
       "\n",
       "> The area of Finland is 338,424 km²  \n",
       "> The area of Greenland is 2,166,086 km²\n",
       "\n",
       "We probably don't care whether it's really 338,424, or 338,425, or 338,177. All those digits of accuracy are just distracting. We can chop them off by calling `round()` with `ndigits=-3`:\n",
       "\n",
       "> The area of Finland is 338,000 km²  \n",
       "> The area of Greenland is 2,166,000 km²\n",
       "\n",
       "(We'll talk about how we would get the commas later when we talk about string formatting :))"
      ]
     },
     "metadata": {},
     "output_type": "display_data"
    }
   ],
   "source": [
    "# Check your answer (Run this code cell to receive credit!)\n",
    "q2.solution()"
   ]
  },
  {
   "cell_type": "markdown",
   "id": "c9de276b",
   "metadata": {
    "papermill": {
     "duration": 0.022077,
     "end_time": "2022-02-24T09:50:37.814798",
     "exception": false,
     "start_time": "2022-02-24T09:50:37.792721",
     "status": "completed"
    },
    "tags": []
   },
   "source": [
    "# 3.\n",
    "\n",
    "In the previous exercise, the candy-sharing friends Alice, Bob and Carol tried to split candies evenly. For the sake of their friendship, any candies left over would be smashed. For example, if they collectively bring home 91 candies, they'll take 30 each and smash 1.\n",
    "\n",
    "Below is a simple function that will calculate the number of candies to smash for *any* number of total candies.\n",
    "\n",
    "Modify it so that it optionally takes a second argument representing the number of friends the candies are being split between. If no second argument is provided, it should assume 3 friends, as before.\n",
    "\n",
    "Update the docstring to reflect this new behaviour."
   ]
  },
  {
   "cell_type": "code",
   "execution_count": 6,
   "id": "2bb02f0f",
   "metadata": {
    "execution": {
     "iopub.execute_input": "2022-02-24T09:50:37.861279Z",
     "iopub.status.busy": "2022-02-24T09:50:37.860226Z",
     "iopub.status.idle": "2022-02-24T09:50:37.869001Z",
     "shell.execute_reply": "2022-02-24T09:50:37.869590Z",
     "shell.execute_reply.started": "2022-02-24T09:49:44.701588Z"
    },
    "papermill": {
     "duration": 0.033553,
     "end_time": "2022-02-24T09:50:37.869765",
     "exception": false,
     "start_time": "2022-02-24T09:50:37.836212",
     "status": "completed"
    },
    "tags": []
   },
   "outputs": [
    {
     "data": {
      "application/javascript": [
       "parent.postMessage({\"jupyterEvent\": \"custom.exercise_interaction\", \"data\": {\"outcomeType\": 1, \"valueTowardsCompletion\": 0.16666666666666666, \"interactionType\": 1, \"questionType\": 2, \"questionId\": \"3_CandySmashingFunctionProblem\", \"learnToolsVersion\": \"0.3.4\", \"failureMessage\": \"\", \"exceptionClass\": \"\", \"trace\": \"\"}}, \"*\")"
      ],
      "text/plain": [
       "<IPython.core.display.Javascript object>"
      ]
     },
     "metadata": {},
     "output_type": "display_data"
    },
    {
     "data": {
      "text/markdown": [
       "<span style=\"color:#33cc33\">Correct</span>"
      ],
      "text/plain": [
       "Correct"
      ]
     },
     "metadata": {},
     "output_type": "display_data"
    }
   ],
   "source": [
    "def to_smash(total_candies,num=3):\n",
    "    \"\"\"Return the number of leftover candies that must be smashed after distributing\n",
    "    the given number of candies evenly between 3 friends.\n",
    "    \n",
    "    >>> to_smash(91)\n",
    "    1\n",
    "    \"\"\"\n",
    "    return total_candies % num\n",
    "\n",
    "# Check your answer\n",
    "q3.check()"
   ]
  },
  {
   "cell_type": "code",
   "execution_count": 7,
   "id": "3874f491",
   "metadata": {
    "execution": {
     "iopub.execute_input": "2022-02-24T09:50:37.916883Z",
     "iopub.status.busy": "2022-02-24T09:50:37.915878Z",
     "iopub.status.idle": "2022-02-24T09:50:37.919536Z",
     "shell.execute_reply": "2022-02-24T09:50:37.920130Z",
     "shell.execute_reply.started": "2022-02-17T13:55:21.468882Z"
    },
    "papermill": {
     "duration": 0.028814,
     "end_time": "2022-02-24T09:50:37.920312",
     "exception": false,
     "start_time": "2022-02-24T09:50:37.891498",
     "status": "completed"
    },
    "tags": []
   },
   "outputs": [],
   "source": [
    "#q3.hint()"
   ]
  },
  {
   "cell_type": "code",
   "execution_count": 8,
   "id": "d9c43ef6",
   "metadata": {
    "execution": {
     "iopub.execute_input": "2022-02-24T09:50:37.968186Z",
     "iopub.status.busy": "2022-02-24T09:50:37.967527Z",
     "iopub.status.idle": "2022-02-24T09:50:37.970662Z",
     "shell.execute_reply": "2022-02-24T09:50:37.971130Z",
     "shell.execute_reply.started": "2022-02-17T13:55:21.477969Z"
    },
    "papermill": {
     "duration": 0.029508,
     "end_time": "2022-02-24T09:50:37.971303",
     "exception": false,
     "start_time": "2022-02-24T09:50:37.941795",
     "status": "completed"
    },
    "tags": []
   },
   "outputs": [],
   "source": [
    "#q3.solution()"
   ]
  },
  {
   "cell_type": "markdown",
   "id": "1e1e6e74",
   "metadata": {
    "papermill": {
     "duration": 0.021934,
     "end_time": "2022-02-24T09:50:38.015834",
     "exception": false,
     "start_time": "2022-02-24T09:50:37.993900",
     "status": "completed"
    },
    "tags": []
   },
   "source": [
    "# 4. (Optional)\n",
    "\n",
    "It may not be fun, but reading and understanding error messages will be an important part of your Python career.\n",
    "\n",
    "Each code cell below contains some commented buggy code. For each cell...\n",
    "\n",
    "1. Read the code and predict what you think will happen when it's run.\n",
    "2. Then uncomment the code and run it to see what happens. (**Tip**: In the kernel editor, you can highlight several lines and press `ctrl`+`/` to toggle commenting.)\n",
    "3. Fix the code (so that it accomplishes its intended purpose without throwing an exception)\n",
    "\n",
    "<!-- TODO: should this be autochecked? Delta is probably pretty small. -->"
   ]
  },
  {
   "cell_type": "code",
   "execution_count": 9,
   "id": "bb097eac",
   "metadata": {
    "execution": {
     "iopub.execute_input": "2022-02-24T09:50:38.068292Z",
     "iopub.status.busy": "2022-02-24T09:50:38.067453Z",
     "iopub.status.idle": "2022-02-24T09:50:38.071442Z",
     "shell.execute_reply": "2022-02-24T09:50:38.070787Z",
     "shell.execute_reply.started": "2022-02-24T09:49:48.954612Z"
    },
    "papermill": {
     "duration": 0.033527,
     "end_time": "2022-02-24T09:50:38.071584",
     "exception": false,
     "start_time": "2022-02-24T09:50:38.038057",
     "status": "completed"
    },
    "tags": []
   },
   "outputs": [
    {
     "data": {
      "text/plain": [
       "10.0"
      ]
     },
     "execution_count": 9,
     "metadata": {},
     "output_type": "execute_result"
    }
   ],
   "source": [
    "def ruound_to_two_places(num):\n",
    "    return round(num,2)\n",
    "                         \n",
    "ruound_to_two_places(9.9999)"
   ]
  },
  {
   "cell_type": "code",
   "execution_count": 10,
   "id": "2456fd24",
   "metadata": {
    "execution": {
     "iopub.execute_input": "2022-02-24T09:50:38.122502Z",
     "iopub.status.busy": "2022-02-24T09:50:38.121663Z",
     "iopub.status.idle": "2022-02-24T09:50:38.125629Z",
     "shell.execute_reply": "2022-02-24T09:50:38.125063Z",
     "shell.execute_reply.started": "2022-02-24T09:49:59.376173Z"
    },
    "papermill": {
     "duration": 0.031879,
     "end_time": "2022-02-24T09:50:38.125797",
     "exception": false,
     "start_time": "2022-02-24T09:50:38.093918",
     "status": "completed"
    },
    "tags": []
   },
   "outputs": [
    {
     "name": "stdout",
     "output_type": "stream",
     "text": [
      "5\n"
     ]
    }
   ],
   "source": [
    "x = -10\n",
    "y = 5\n",
    "# # Which of the two variables above has the smallest absolute value?\n",
    "smallest_abs = min(abs(x),abs(y))\n",
    "print(smallest_abs)"
   ]
  },
  {
   "cell_type": "code",
   "execution_count": 11,
   "id": "852eaae5",
   "metadata": {
    "execution": {
     "iopub.execute_input": "2022-02-24T09:50:38.177426Z",
     "iopub.status.busy": "2022-02-24T09:50:38.176732Z",
     "iopub.status.idle": "2022-02-24T09:50:38.179734Z",
     "shell.execute_reply": "2022-02-24T09:50:38.180266Z",
     "shell.execute_reply.started": "2022-02-24T09:50:08.480958Z"
    },
    "papermill": {
     "duration": 0.031625,
     "end_time": "2022-02-24T09:50:38.180459",
     "exception": false,
     "start_time": "2022-02-24T09:50:38.148834",
     "status": "completed"
    },
    "tags": []
   },
   "outputs": [
    {
     "name": "stdout",
     "output_type": "stream",
     "text": [
      "5\n"
     ]
    }
   ],
   "source": [
    "def f(x):\n",
    "    y = abs(x)\n",
    "    return y\n",
    "\n",
    "print(f(5))"
   ]
  },
  {
   "cell_type": "markdown",
   "id": "4e49372d",
   "metadata": {
    "papermill": {
     "duration": 0.02269,
     "end_time": "2022-02-24T09:50:38.226177",
     "exception": false,
     "start_time": "2022-02-24T09:50:38.203487",
     "status": "completed"
    },
    "tags": []
   },
   "source": [
    "# Keep Going\n",
    "\n",
    "Nice job with the code. Next up, you'll learn about *conditionals*, which you'll need to **[write interesting programs](https://www.kaggle.com/colinmorris/booleans-and-conditionals)**. "
   ]
  },
  {
   "cell_type": "markdown",
   "id": "5db0e7ae",
   "metadata": {
    "papermill": {
     "duration": 0.022308,
     "end_time": "2022-02-24T09:50:38.271237",
     "exception": false,
     "start_time": "2022-02-24T09:50:38.248929",
     "status": "completed"
    },
    "tags": []
   },
   "source": [
    "---\n",
    "\n",
    "\n",
    "\n",
    "\n",
    "*Have questions or comments? Visit the [course discussion forum](https://www.kaggle.com/learn/python/discussion) to chat with other learners.*"
   ]
  }
 ],
 "metadata": {
  "kernelspec": {
   "display_name": "Python 3",
   "language": "python",
   "name": "python3"
  },
  "language_info": {
   "codemirror_mode": {
    "name": "ipython",
    "version": 3
   },
   "file_extension": ".py",
   "mimetype": "text/x-python",
   "name": "python",
   "nbconvert_exporter": "python",
   "pygments_lexer": "ipython3",
   "version": "3.7.12"
  },
  "papermill": {
   "default_parameters": {},
   "duration": 11.812491,
   "end_time": "2022-02-24T09:50:39.005995",
   "environment_variables": {},
   "exception": null,
   "input_path": "__notebook__.ipynb",
   "output_path": "__notebook__.ipynb",
   "parameters": {},
   "start_time": "2022-02-24T09:50:27.193504",
   "version": "2.3.3"
  }
 },
 "nbformat": 4,
 "nbformat_minor": 5
}
