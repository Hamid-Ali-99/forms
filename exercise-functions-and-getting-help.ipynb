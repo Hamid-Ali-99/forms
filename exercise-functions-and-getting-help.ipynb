{
 "cells": [
  {
   "cell_type": "markdown",
   "id": "dd04ba75",
   "metadata": {
    "papermill": {
     "duration": 0.015773,
     "end_time": "2022-02-24T09:56:36.791831",
     "exception": false,
     "start_time": "2022-02-24T09:56:36.776058",
     "status": "completed"
    },
    "tags": []
   },
   "source": [
    "**This notebook is an exercise in the [Python](https://www.kaggle.com/learn/python) course.  You can reference the tutorial at [this link](https://www.kaggle.com/colinmorris/functions-and-getting-help).**\n",
    "\n",
    "---\n"
   ]
  },
  {
   "cell_type": "markdown",
   "id": "86cd4aea",
   "metadata": {
    "papermill": {
     "duration": 0.015226,
     "end_time": "2022-02-24T09:56:36.824387",
     "exception": false,
     "start_time": "2022-02-24T09:56:36.809161",
     "status": "completed"
    },
    "tags": []
   },
   "source": [
    "Functions are powerful. Try writing some yourself.\n",
    "\n",
    "As before, don't forget to run the setup code below before jumping into question 1."
   ]
  },
  {
   "cell_type": "code",
   "execution_count": 1,
   "id": "f2b3ec66",
   "metadata": {
    "_kg_hide-input": true,
    "_kg_hide-output": true,
    "execution": {
     "iopub.execute_input": "2022-02-24T09:56:36.864180Z",
     "iopub.status.busy": "2022-02-24T09:56:36.863283Z",
     "iopub.status.idle": "2022-02-24T09:56:36.928520Z",
     "shell.execute_reply": "2022-02-24T09:56:36.927935Z",
     "shell.execute_reply.started": "2022-02-24T09:52:18.405137Z"
    },
    "papermill": {
     "duration": 0.08517,
     "end_time": "2022-02-24T09:56:36.928652",
     "exception": false,
     "start_time": "2022-02-24T09:56:36.843482",
     "status": "completed"
    },
    "tags": []
   },
   "outputs": [
    {
     "name": "stdout",
     "output_type": "stream",
     "text": [
      "Setup complete.\n"
     ]
    }
   ],
   "source": [
    "# SETUP. You don't need to worry for now about what this code does or how it works.\n",
    "from learntools.core import binder; binder.bind(globals())\n",
    "from learntools.python.ex2 import *\n",
    "print('Setup complete.')"
   ]
  },
  {
   "cell_type": "markdown",
   "id": "af450e99",
   "metadata": {
    "papermill": {
     "duration": 0.014975,
     "end_time": "2022-02-24T09:56:36.959470",
     "exception": false,
     "start_time": "2022-02-24T09:56:36.944495",
     "status": "completed"
    },
    "tags": []
   },
   "source": [
    "# 1.\n",
    "\n",
    "Complete the body of the following function according to its docstring.\n",
    "\n",
    "HINT: Python has a built-in function `round`."
   ]
  },
  {
   "cell_type": "markdown",
   "id": "95650080",
   "metadata": {
    "execution": {
     "iopub.execute_input": "2022-02-17T10:55:29.599626Z",
     "iopub.status.busy": "2022-02-17T10:55:29.599344Z",
     "iopub.status.idle": "2022-02-17T10:55:29.605567Z",
     "shell.execute_reply": "2022-02-17T10:55:29.604732Z",
     "shell.execute_reply.started": "2022-02-17T10:55:29.599596Z"
    },
    "papermill": {
     "duration": 0.01418,
     "end_time": "2022-02-24T09:56:36.988309",
     "exception": false,
     "start_time": "2022-02-24T09:56:36.974129",
     "status": "completed"
    },
    "tags": []
   },
   "source": [
    " def round_to_two_places(num):\n",
    "    \"\"\"Return the given number rounded to two decimal places. \n",
    "    \n",
    "    >>> round_to_two_places(3.14159)\n",
    "    3.14 \"\"\"\n",
    " \n",
    "    # Replace this body with your own code.\n",
    "    # (\"pass\" is a keyword that does literally nothing. We used it as a placeholder\n",
    "    # because after we begin a code block, Python requires at least one line of code)\n",
    "#     pass\n",
    "   return round(num,2)\n",
    "# Check your answer\n",
    "q1.check()"
   ]
  },
  {
   "cell_type": "code",
   "execution_count": 2,
   "id": "da49df32",
   "metadata": {
    "execution": {
     "iopub.execute_input": "2022-02-24T09:56:37.024710Z",
     "iopub.status.busy": "2022-02-24T09:56:37.024141Z",
     "iopub.status.idle": "2022-02-24T09:56:37.028457Z",
     "shell.execute_reply": "2022-02-24T09:56:37.028887Z",
     "shell.execute_reply.started": "2022-02-24T09:53:50.479984Z"
    },
    "papermill": {
     "duration": 0.025936,
     "end_time": "2022-02-24T09:56:37.029008",
     "exception": false,
     "start_time": "2022-02-24T09:56:37.003072",
     "status": "completed"
    },
    "tags": []
   },
   "outputs": [
    {
     "data": {
      "application/javascript": [
       "parent.postMessage({\"jupyterEvent\": \"custom.exercise_interaction\", \"data\": {\"outcomeType\": 1, \"valueTowardsCompletion\": 0.16666666666666666, \"interactionType\": 1, \"questionType\": 2, \"questionId\": \"1_RoundFunctionProblem\", \"learnToolsVersion\": \"0.3.4\", \"failureMessage\": \"\", \"exceptionClass\": \"\", \"trace\": \"\"}}, \"*\")"
      ],
      "text/plain": [
       "<IPython.core.display.Javascript object>"
      ]
     },
     "metadata": {},
     "output_type": "display_data"
    },
    {
     "data": {
      "text/markdown": [
       "<span style=\"color:#33cc33\">Correct</span>"
      ],
      "text/plain": [
       "Correct"
      ]
     },
     "metadata": {},
     "output_type": "display_data"
    }
   ],
   "source": [
    "def round_to_two_places(num): \n",
    "    return round(num,2)\n",
    "# print(round_to_two_places(3.14159))\n",
    "q1.check()"
   ]
  },
  {
   "cell_type": "code",
   "execution_count": 3,
   "id": "24683c97",
   "metadata": {
    "execution": {
     "iopub.execute_input": "2022-02-24T09:56:37.064676Z",
     "iopub.status.busy": "2022-02-24T09:56:37.064156Z",
     "iopub.status.idle": "2022-02-24T09:56:37.066009Z",
     "shell.execute_reply": "2022-02-24T09:56:37.066471Z",
     "shell.execute_reply.started": "2022-02-17T13:55:21.418644Z"
    },
    "papermill": {
     "duration": 0.021804,
     "end_time": "2022-02-24T09:56:37.066616",
     "exception": false,
     "start_time": "2022-02-24T09:56:37.044812",
     "status": "completed"
    },
    "tags": []
   },
   "outputs": [],
   "source": [
    "# Uncomment the following for a hint\n",
    "#q1.hint()\n",
    "# Or uncomment the following to peek at the solution\n",
    "#q1.solution()"
   ]
  },
  {
   "cell_type": "markdown",
   "id": "5ce05d4d",
   "metadata": {
    "papermill": {
     "duration": 0.015435,
     "end_time": "2022-02-24T09:56:37.097806",
     "exception": false,
     "start_time": "2022-02-24T09:56:37.082371",
     "status": "completed"
    },
    "tags": []
   },
   "source": [
    "# 2.\n",
    "The help for `round` says that `ndigits` (the second argument) may be negative.\n",
    "What do you think will happen when it is? Try some examples in the following cell."
   ]
  },
  {
   "cell_type": "code",
   "execution_count": 4,
   "id": "e06ba502",
   "metadata": {
    "execution": {
     "iopub.execute_input": "2022-02-24T09:56:37.134156Z",
     "iopub.status.busy": "2022-02-24T09:56:37.131678Z",
     "iopub.status.idle": "2022-02-24T09:56:37.137012Z",
     "shell.execute_reply": "2022-02-24T09:56:37.136354Z",
     "shell.execute_reply.started": "2022-02-24T09:49:39.038773Z"
    },
    "papermill": {
     "duration": 0.023528,
     "end_time": "2022-02-24T09:56:37.137161",
     "exception": false,
     "start_time": "2022-02-24T09:56:37.113633",
     "status": "completed"
    },
    "tags": []
   },
   "outputs": [
    {
     "name": "stdout",
     "output_type": "stream",
     "text": [
      "0.0\n"
     ]
    }
   ],
   "source": [
    "# Put your test code here\n",
    "num=23.333434\n",
    "\n",
    "print(round(num,-2))"
   ]
  },
  {
   "cell_type": "markdown",
   "id": "c8519875",
   "metadata": {
    "papermill": {
     "duration": 0.015997,
     "end_time": "2022-02-24T09:56:37.170861",
     "exception": false,
     "start_time": "2022-02-24T09:56:37.154864",
     "status": "completed"
    },
    "tags": []
   },
   "source": [
    "Can you think of a case where this would be useful?  Once you're ready, run the code cell below to see the answer and to receive credit for completing the problem."
   ]
  },
  {
   "cell_type": "code",
   "execution_count": 5,
   "id": "0b209dea",
   "metadata": {
    "execution": {
     "iopub.execute_input": "2022-02-24T09:56:37.205953Z",
     "iopub.status.busy": "2022-02-24T09:56:37.205307Z",
     "iopub.status.idle": "2022-02-24T09:56:37.210670Z",
     "shell.execute_reply": "2022-02-24T09:56:37.211110Z",
     "shell.execute_reply.started": "2022-02-17T13:55:21.437212Z"
    },
    "papermill": {
     "duration": 0.024139,
     "end_time": "2022-02-24T09:56:37.211239",
     "exception": false,
     "start_time": "2022-02-24T09:56:37.187100",
     "status": "completed"
    },
    "tags": []
   },
   "outputs": [
    {
     "data": {
      "application/javascript": [
       "parent.postMessage({\"jupyterEvent\": \"custom.exercise_interaction\", \"data\": {\"interactionType\": 3, \"questionType\": 4, \"questionId\": \"2_RoundNdigitsProblem\", \"learnToolsVersion\": \"0.3.4\", \"valueTowardsCompletion\": 0.0, \"failureMessage\": \"\", \"exceptionClass\": \"\", \"trace\": \"\", \"outcomeType\": 4}}, \"*\")"
      ],
      "text/plain": [
       "<IPython.core.display.Javascript object>"
      ]
     },
     "metadata": {},
     "output_type": "display_data"
    },
    {
     "data": {
      "text/markdown": [
       "<span style=\"color:#33cc99\">Solution:</span> As you've seen, `ndigits=-1` rounds to the nearest 10, `ndigits=-2` rounds to the nearest 100 and so on. Where might this be useful? Suppose we're dealing with large numbers:\n",
       "\n",
       "> The area of Finland is 338,424 km²  \n",
       "> The area of Greenland is 2,166,086 km²\n",
       "\n",
       "We probably don't care whether it's really 338,424, or 338,425, or 338,177. All those digits of accuracy are just distracting. We can chop them off by calling `round()` with `ndigits=-3`:\n",
       "\n",
       "> The area of Finland is 338,000 km²  \n",
       "> The area of Greenland is 2,166,000 km²\n",
       "\n",
       "(We'll talk about how we would get the commas later when we talk about string formatting :))\n"
      ],
      "text/plain": [
       "Solution: As you've seen, `ndigits=-1` rounds to the nearest 10, `ndigits=-2` rounds to the nearest 100 and so on. Where might this be useful? Suppose we're dealing with large numbers:\n",
       "\n",
       "> The area of Finland is 338,424 km²  \n",
       "> The area of Greenland is 2,166,086 km²\n",
       "\n",
       "We probably don't care whether it's really 338,424, or 338,425, or 338,177. All those digits of accuracy are just distracting. We can chop them off by calling `round()` with `ndigits=-3`:\n",
       "\n",
       "> The area of Finland is 338,000 km²  \n",
       "> The area of Greenland is 2,166,000 km²\n",
       "\n",
       "(We'll talk about how we would get the commas later when we talk about string formatting :))"
      ]
     },
     "metadata": {},
     "output_type": "display_data"
    }
   ],
   "source": [
    "# Check your answer (Run this code cell to receive credit!)\n",
    "q2.solution()"
   ]
  },
  {
   "cell_type": "markdown",
   "id": "0eeff417",
   "metadata": {
    "papermill": {
     "duration": 0.01767,
     "end_time": "2022-02-24T09:56:37.247125",
     "exception": false,
     "start_time": "2022-02-24T09:56:37.229455",
     "status": "completed"
    },
    "tags": []
   },
   "source": [
    "# 3.\n",
    "\n",
    "In the previous exercise, the candy-sharing friends Alice, Bob and Carol tried to split candies evenly. For the sake of their friendship, any candies left over would be smashed. For example, if they collectively bring home 91 candies, they'll take 30 each and smash 1.\n",
    "\n",
    "Below is a simple function that will calculate the number of candies to smash for *any* number of total candies.\n",
    "\n",
    "Modify it so that it optionally takes a second argument representing the number of friends the candies are being split between. If no second argument is provided, it should assume 3 friends, as before.\n",
    "\n",
    "Update the docstring to reflect this new behaviour."
   ]
  },
  {
   "cell_type": "code",
   "execution_count": 6,
   "id": "8556a689",
   "metadata": {
    "execution": {
     "iopub.execute_input": "2022-02-24T09:56:37.285138Z",
     "iopub.status.busy": "2022-02-24T09:56:37.284511Z",
     "iopub.status.idle": "2022-02-24T09:56:37.291052Z",
     "shell.execute_reply": "2022-02-24T09:56:37.291392Z",
     "shell.execute_reply.started": "2022-02-24T09:54:51.826692Z"
    },
    "papermill": {
     "duration": 0.026779,
     "end_time": "2022-02-24T09:56:37.291563",
     "exception": false,
     "start_time": "2022-02-24T09:56:37.264784",
     "status": "completed"
    },
    "tags": []
   },
   "outputs": [
    {
     "data": {
      "application/javascript": [
       "parent.postMessage({\"jupyterEvent\": \"custom.exercise_interaction\", \"data\": {\"outcomeType\": 1, \"valueTowardsCompletion\": 0.16666666666666666, \"interactionType\": 1, \"questionType\": 2, \"questionId\": \"3_CandySmashingFunctionProblem\", \"learnToolsVersion\": \"0.3.4\", \"failureMessage\": \"\", \"exceptionClass\": \"\", \"trace\": \"\"}}, \"*\")"
      ],
      "text/plain": [
       "<IPython.core.display.Javascript object>"
      ]
     },
     "metadata": {},
     "output_type": "display_data"
    },
    {
     "data": {
      "text/markdown": [
       "<span style=\"color:#33cc33\">Correct</span>"
      ],
      "text/plain": [
       "Correct"
      ]
     },
     "metadata": {},
     "output_type": "display_data"
    }
   ],
   "source": [
    "def to_smash(total_candies,num=3):\n",
    "    \"\"\"Return the number of leftover candies that must be smashed after distributing\n",
    "    the given number of candies evenly between 3 friends.\n",
    "    \n",
    "    >>> to_smash(91)\n",
    "    1\n",
    "    \"\"\"\n",
    "    return total_candies % num\n",
    "\n",
    "# Check your answer\n",
    "q3.check()"
   ]
  },
  {
   "cell_type": "code",
   "execution_count": 7,
   "id": "7e286cdd",
   "metadata": {
    "execution": {
     "iopub.execute_input": "2022-02-24T09:56:37.332550Z",
     "iopub.status.busy": "2022-02-24T09:56:37.332050Z",
     "iopub.status.idle": "2022-02-24T09:56:37.333910Z",
     "shell.execute_reply": "2022-02-24T09:56:37.334329Z",
     "shell.execute_reply.started": "2022-02-17T13:55:21.468882Z"
    },
    "papermill": {
     "duration": 0.024302,
     "end_time": "2022-02-24T09:56:37.334479",
     "exception": false,
     "start_time": "2022-02-24T09:56:37.310177",
     "status": "completed"
    },
    "tags": []
   },
   "outputs": [],
   "source": [
    "#q3.hint()"
   ]
  },
  {
   "cell_type": "code",
   "execution_count": 8,
   "id": "b7fcfeb2",
   "metadata": {
    "execution": {
     "iopub.execute_input": "2022-02-24T09:56:37.375582Z",
     "iopub.status.busy": "2022-02-24T09:56:37.375022Z",
     "iopub.status.idle": "2022-02-24T09:56:37.378796Z",
     "shell.execute_reply": "2022-02-24T09:56:37.379167Z",
     "shell.execute_reply.started": "2022-02-17T13:55:21.477969Z"
    },
    "papermill": {
     "duration": 0.026086,
     "end_time": "2022-02-24T09:56:37.379339",
     "exception": false,
     "start_time": "2022-02-24T09:56:37.353253",
     "status": "completed"
    },
    "tags": []
   },
   "outputs": [],
   "source": [
    "#q3.solution()"
   ]
  },
  {
   "cell_type": "markdown",
   "id": "408ad1f1",
   "metadata": {
    "papermill": {
     "duration": 0.017527,
     "end_time": "2022-02-24T09:56:37.415528",
     "exception": false,
     "start_time": "2022-02-24T09:56:37.398001",
     "status": "completed"
    },
    "tags": []
   },
   "source": [
    "# 4. (Optional)\n",
    "\n",
    "It may not be fun, but reading and understanding error messages will be an important part of your Python career.\n",
    "\n",
    "Each code cell below contains some commented buggy code. For each cell...\n",
    "\n",
    "1. Read the code and predict what you think will happen when it's run.\n",
    "2. Then uncomment the code and run it to see what happens. (**Tip**: In the kernel editor, you can highlight several lines and press `ctrl`+`/` to toggle commenting.)\n",
    "3. Fix the code (so that it accomplishes its intended purpose without throwing an exception)\n",
    "\n",
    "<!-- TODO: should this be autochecked? Delta is probably pretty small. -->"
   ]
  },
  {
   "cell_type": "code",
   "execution_count": 9,
   "id": "c9e2ee98",
   "metadata": {
    "execution": {
     "iopub.execute_input": "2022-02-24T09:56:37.454895Z",
     "iopub.status.busy": "2022-02-24T09:56:37.454328Z",
     "iopub.status.idle": "2022-02-24T09:56:37.461488Z",
     "shell.execute_reply": "2022-02-24T09:56:37.461014Z",
     "shell.execute_reply.started": "2022-02-24T09:55:11.907158Z"
    },
    "papermill": {
     "duration": 0.028062,
     "end_time": "2022-02-24T09:56:37.461606",
     "exception": false,
     "start_time": "2022-02-24T09:56:37.433544",
     "status": "completed"
    },
    "tags": []
   },
   "outputs": [
    {
     "data": {
      "text/plain": [
       "10.0"
      ]
     },
     "execution_count": 9,
     "metadata": {},
     "output_type": "execute_result"
    }
   ],
   "source": [
    "def ruound_to_two_places(num):\n",
    "    return round(num,2)\n",
    "                         \n",
    "ruound_to_two_places(9.9999)"
   ]
  },
  {
   "cell_type": "code",
   "execution_count": 10,
   "id": "70030774",
   "metadata": {
    "execution": {
     "iopub.execute_input": "2022-02-24T09:56:37.504955Z",
     "iopub.status.busy": "2022-02-24T09:56:37.504109Z",
     "iopub.status.idle": "2022-02-24T09:56:37.509828Z",
     "shell.execute_reply": "2022-02-24T09:56:37.510331Z",
     "shell.execute_reply.started": "2022-02-24T09:49:59.376173Z"
    },
    "papermill": {
     "duration": 0.028594,
     "end_time": "2022-02-24T09:56:37.510535",
     "exception": false,
     "start_time": "2022-02-24T09:56:37.481941",
     "status": "completed"
    },
    "tags": []
   },
   "outputs": [
    {
     "name": "stdout",
     "output_type": "stream",
     "text": [
      "5\n"
     ]
    }
   ],
   "source": [
    "x = -10\n",
    "y = 5\n",
    "# # Which of the two variables above has the smallest absolute value?\n",
    "smallest_abs = min(abs(x),abs(y))\n",
    "print(smallest_abs)"
   ]
  },
  {
   "cell_type": "code",
   "execution_count": 11,
   "id": "16f4521c",
   "metadata": {
    "execution": {
     "iopub.execute_input": "2022-02-24T09:56:37.554172Z",
     "iopub.status.busy": "2022-02-24T09:56:37.553501Z",
     "iopub.status.idle": "2022-02-24T09:56:37.559186Z",
     "shell.execute_reply": "2022-02-24T09:56:37.558713Z",
     "shell.execute_reply.started": "2022-02-24T09:55:34.418119Z"
    },
    "papermill": {
     "duration": 0.027717,
     "end_time": "2022-02-24T09:56:37.559334",
     "exception": false,
     "start_time": "2022-02-24T09:56:37.531617",
     "status": "completed"
    },
    "tags": []
   },
   "outputs": [
    {
     "name": "stdout",
     "output_type": "stream",
     "text": [
      "5\n"
     ]
    }
   ],
   "source": [
    "def f(x):\n",
    "    y = abs(x)\n",
    "    return y\n",
    "\n",
    "print(f(5))"
   ]
  },
  {
   "cell_type": "markdown",
   "id": "0d14137e",
   "metadata": {
    "papermill": {
     "duration": 0.018998,
     "end_time": "2022-02-24T09:56:37.597871",
     "exception": false,
     "start_time": "2022-02-24T09:56:37.578873",
     "status": "completed"
    },
    "tags": []
   },
   "source": [
    "# Keep Going\n",
    "\n",
    "Nice job with the code. Next up, you'll learn about *conditionals*, which you'll need to **[write interesting programs](https://www.kaggle.com/colinmorris/booleans-and-conditionals)**. "
   ]
  },
  {
   "cell_type": "markdown",
   "id": "6229e9cb",
   "metadata": {
    "papermill": {
     "duration": 0.019402,
     "end_time": "2022-02-24T09:56:37.636720",
     "exception": false,
     "start_time": "2022-02-24T09:56:37.617318",
     "status": "completed"
    },
    "tags": []
   },
   "source": [
    "---\n",
    "\n",
    "\n",
    "\n",
    "\n",
    "*Have questions or comments? Visit the [course discussion forum](https://www.kaggle.com/learn/python/discussion) to chat with other learners.*"
   ]
  }
 ],
 "metadata": {
  "kernelspec": {
   "display_name": "Python 3",
   "language": "python",
   "name": "python3"
  },
  "language_info": {
   "codemirror_mode": {
    "name": "ipython",
    "version": 3
   },
   "file_extension": ".py",
   "mimetype": "text/x-python",
   "name": "python",
   "nbconvert_exporter": "python",
   "pygments_lexer": "ipython3",
   "version": "3.7.12"
  },
  "papermill": {
   "default_parameters": {},
   "duration": 10.749949,
   "end_time": "2022-02-24T09:56:38.264718",
   "environment_variables": {},
   "exception": null,
   "input_path": "__notebook__.ipynb",
   "output_path": "__notebook__.ipynb",
   "parameters": {},
   "start_time": "2022-02-24T09:56:27.514769",
   "version": "2.3.3"
  }
 },
 "nbformat": 4,
 "nbformat_minor": 5
}
